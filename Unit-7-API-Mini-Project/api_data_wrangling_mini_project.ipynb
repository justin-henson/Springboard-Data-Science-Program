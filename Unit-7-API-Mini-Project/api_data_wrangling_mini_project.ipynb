{
 "cells": [
  {
   "cell_type": "markdown",
   "metadata": {},
   "source": [
    "This exercise will require you to pull some data from https://data.nasdaq.com/ (formerly Quandl API)."
   ]
  },
  {
   "cell_type": "markdown",
   "metadata": {},
   "source": [
    "As a first step, you will need to register a free account on the https://data.nasdaq.com/ website."
   ]
  },
  {
   "cell_type": "markdown",
   "metadata": {},
   "source": [
    "After you register, you will be provided with a unique API key, that you should store:\n",
    "\n",
    "*Note*: Use a `.env` file and put your key in there and `python-dotenv` to access it in this notebook. \n",
    "\n",
    "The code below uses a key that was used when generating this project but has since been deleted. Never submit your keys to source control. There is a `.env-example` file in this repository to illusrtate what you need. Copy that to a file called `.env` and use your own api key in that `.env` file. Make sure you also have a `.gitignore` file with a line for `.env` added to it. \n",
    "\n",
    "The standard Python gitignore is [here](https://github.com/github/gitignore/blob/master/Python.gitignore) you can just copy that. "
   ]
  },
  {
   "cell_type": "code",
   "execution_count": 12,
   "metadata": {},
   "outputs": [
    {
     "name": "stdout",
     "output_type": "stream",
     "text": [
      "LJ3MTrCq5o2tvhxmAW3z\n"
     ]
    }
   ],
   "source": [
    "# get api key from your .env file\n",
    "import os\n",
    "from dotenv import load_dotenv\n",
    "\n",
    "load_dotenv()\n",
    "API_KEY = os.getenv('NASDAQ_API_KEY')\n",
    "\n",
    "print(API_KEY)"
   ]
  },
  {
   "cell_type": "markdown",
   "metadata": {},
   "source": [
    "Nasdaq Data has a large number of data sources, but, unfortunately, most of them require a Premium subscription. Still, there are also a good number of free datasets."
   ]
  },
  {
   "cell_type": "markdown",
   "metadata": {},
   "source": [
    "For this mini project, we will focus on equities data from the Frankfurt Stock Exhange (FSE), which is available for free. We'll try and analyze the stock prices of a company called Carl Zeiss Meditec, which manufactures tools for eye examinations, as well as medical lasers for laser eye surgery: https://www.zeiss.com/meditec/int/home.html. The company is listed under the stock ticker AFX_X."
   ]
  },
  {
   "cell_type": "markdown",
   "metadata": {},
   "source": [
    "You can find the detailed Nasdaq Data API instructions here: https://docs.data.nasdaq.com/docs/in-depth-usage"
   ]
  },
  {
   "cell_type": "markdown",
   "metadata": {},
   "source": [
    "While there is a dedicated Python package for connecting to the Nasdaq API, we would prefer that you use the *requests* package, which can be easily downloaded using *pip* or *conda*. You can find the documentation for the package here: http://docs.python-requests.org/en/master/ "
   ]
  },
  {
   "cell_type": "markdown",
   "metadata": {},
   "source": [
    "Finally, apart from the *requests* package, you are encouraged to not use any third party Python packages, such as *pandas*, and instead focus on what's available in the Python Standard Library (the *collections* module might come in handy: https://pymotw.com/3/collections/).\n",
    "Also, since you won't have access to DataFrames, you are encouraged to us Python's native data structures - preferably dictionaries, though some questions can also be answered using lists.\n",
    "You can read more on these data structures here: https://docs.python.org/3/tutorial/datastructures.html"
   ]
  },
  {
   "cell_type": "markdown",
   "metadata": {},
   "source": [
    "Keep in mind that the JSON responses you will be getting from the API map almost one-to-one to Python's dictionaries. Unfortunately, they can be very nested, so make sure you read up on indexing dictionaries in the documentation provided above."
   ]
  },
  {
   "cell_type": "code",
   "execution_count": 13,
   "metadata": {},
   "outputs": [],
   "source": [
    "# First, import the relevant modules\n",
    "import requests\n",
    "import json"
   ]
  },
  {
   "cell_type": "markdown",
   "metadata": {},
   "source": [
    "Note: API's can change a bit with each version, for this exercise it is reccomended to use the nasdaq api at `https://data.nasdaq.com/api/v3/`. This is the same api as what used to be quandl so `https://www.quandl.com/api/v3/` should work too.\n",
    "\n",
    "Hint: We are looking for the `AFX_X` data on the `datasets/FSE/` dataset."
   ]
  },
  {
   "cell_type": "code",
   "execution_count": 16,
   "metadata": {},
   "outputs": [],
   "source": [
    "# Now, call the Nasdaq API and pull out a small sample of the data (only one day) to get a glimpse\n",
    "# into the JSON structure that will be returned\n",
    "endpoint = \"https://data.nasdaq.com/api/v3/datasets/FSE/AFX_X\"\n",
    "params = {\n",
    "    \"start_date\": \"2022-02-10\",\n",
    "    \"end_date\": \"2022-02-10\"\n",
    "}\n",
    "# Make a GET request to the API endpoint\n",
    "response = requests.get(endpoint, params=params)\n"
   ]
  },
  {
   "cell_type": "code",
   "execution_count": 19,
   "metadata": {},
   "outputs": [],
   "source": [
    "# Inspect the JSON structure of the object you created, and take note of how nested it is,\n",
    "# as well as the overall structure\n"
   ]
  },
  {
   "cell_type": "markdown",
   "metadata": {},
   "source": [
    "These are your tasks for this mini project:\n",
    "\n",
    "1. Collect data from the Franfurt Stock Exchange, for the ticker AFX_X, for the whole year 2017 (keep in mind that the date format is YYYY-MM-DD).\n",
    "2. Convert the returned JSON object into a Python dictionary.\n",
    "3. Calculate what the highest and lowest opening prices were for the stock in this period.\n",
    "4. What was the largest change in any one day (based on High and Low price)?\n",
    "5. What was the largest change between any two days (based on Closing Price)?\n",
    "6. What was the average daily trading volume during this year?\n",
    "7. (Optional) What was the median trading volume during this year. (Note: you may need to implement your own function for calculating the median.)"
   ]
  },
  {
   "cell_type": "code",
   "execution_count": 20,
   "metadata": {},
   "outputs": [],
   "source": [
    "# 1. Create function to take in parameters start_date and end_date to get data from API endpoint\n",
    "def stock_analysis(start_date, end_date):\n",
    "    endpoint = \"https://data.nasdaq.com/api/v3/datasets/FSE/AFX_X\"\n",
    "    params = {\n",
    "        \"start_date\": start_date,\n",
    "        \"end_date\": end_date\n",
    "    }\n",
    "\n",
    "    response = requests.get(endpoint, params=params)\n",
    "    data = response.json()\n",
    "    \n",
    "    # 2. Convert the returned JSON object into a Python dictionary.\n",
    "    stock_data = data['dataset']['data']\n",
    "    stock_dict = {}\n",
    "    for record in stock_data:\n",
    "        date = record[0]\n",
    "        stock_dict[date] = {\n",
    "            'Open': record[1],\n",
    "            'High': record[2],\n",
    "            'Low': record[3],\n",
    "            'Close': record[4],\n",
    "            'Traded Volume': record[6]\n",
    "        }\n",
    "    \n",
    "    # 3. Calculate what the highest and lowest opening prices were for the stock in this period.\n",
    "    opening_prices = [record['Open'] for date, record in stock_dict.items() if record['Open']]\n",
    "    highest_opening_price = max(opening_prices)\n",
    "    lowest_opening_price = min(opening_prices)\n",
    "    \n",
    "    # 4. What was the largest change in any one day (based on High and Low price)?\n",
    "    largest_change = 0\n",
    "    for date, record in stock_dict.items():\n",
    "        change = record['High'] - record['Low']\n",
    "        if change > largest_change:\n",
    "            largest_change = change\n",
    "            \n",
    "    # 5. What was the largest change between any two days (based on Closing Price)?\n",
    "    closing_prices = [record['Close'] for date, record in stock_dict.items()]\n",
    "    largest_closing_change = 0\n",
    "    for i in range(1, len(closing_prices)):\n",
    "        change = abs(closing_prices[i] - closing_prices[i - 1])\n",
    "        if change > largest_closing_change:\n",
    "            largest_closing_change = change\n",
    "            \n",
    "    # 6. What was the average daily trading volume during this year?\n",
    "    traded_volumes = [record['Traded Volume'] for date, record in stock_dict.items()]\n",
    "    average_traded_volume = sum(traded_volumes) / len(traded_volumes)\n",
    "    \n",
    "    results = {\n",
    "        'highest_opening_price': highest_opening_price,\n",
    "        'lowest_opening_price': lowest_opening_price,\n",
    "        'largest_change': largest_change,\n",
    "        'largest_closing_change': largest_closing_change,\n",
    "        'average_traded_volume': average_traded_volume\n",
    "    }\n",
    "    \n",
    "    return results\n",
    "\n"
   ]
  },
  {
   "cell_type": "code",
   "execution_count": 21,
   "metadata": {},
   "outputs": [
    {
     "name": "stdout",
     "output_type": "stream",
     "text": [
      "{'highest_opening_price': 53.11, 'lowest_opening_price': 34.0, 'largest_change': 2.8100000000000023, 'largest_closing_change': 2.559999999999995, 'average_traded_volume': 89124.33725490196}\n"
     ]
    }
   ],
   "source": [
    "# 7. What was the median trading volume during this year. \n",
    "# Use the function for the year 2017\n",
    "start_date = \"2017-01-01\"\n",
    "end_date = \"2017-12-31\"\n",
    "results = stock_analysis(start_date, end_date)\n",
    "print(results)"
   ]
  },
  {
   "cell_type": "code",
   "execution_count": null,
   "metadata": {},
   "outputs": [],
   "source": []
  }
 ],
 "metadata": {
  "interpreter": {
   "hash": "7635eb1b9d0fe97add78a7368b6b431c09bb8ad5c42e437d64abdd99821c31ae"
  },
  "kernelspec": {
   "display_name": "Python 3 (ipykernel)",
   "language": "python",
   "name": "python3"
  },
  "language_info": {
   "codemirror_mode": {
    "name": "ipython",
    "version": 3
   },
   "file_extension": ".py",
   "mimetype": "text/x-python",
   "name": "python",
   "nbconvert_exporter": "python",
   "pygments_lexer": "ipython3",
   "version": "3.9.13"
  }
 },
 "nbformat": 4,
 "nbformat_minor": 4
}
